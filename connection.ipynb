{
 "cells": [
  {
   "cell_type": "code",
   "execution_count": 1,
   "id": "989cc43c",
   "metadata": {},
   "outputs": [
    {
     "name": "stdout",
     "output_type": "stream",
     "text": [
      "https://ice-cream-factory.inso-internal.cognite.ai/docs is accessible\n",
      "https://github.com is accessible\n",
      "https://portal.azure.com is accessible\n",
      "https://docs-bootcamp.app.cogniteapp.com/ is NOT accessible\n"
     ]
    }
   ],
   "source": [
    "import urllib.request\n",
    "\n",
    "\n",
    "def check(_url, tries=3):\n",
    "    try:\n",
    "        for _ in range(tries):\n",
    "            urllib.request.urlopen(_url).read()\n",
    "        return True\n",
    "    except Exception as e:\n",
    "        pass\n",
    "\n",
    "    return False\n",
    "\n",
    "\n",
    "if __name__ == '__main__':\n",
    "    urls = [\n",
    "        \"https://ice-cream-factory.inso-internal.cognite.ai/docs\",\n",
    "        \"https://github.com\",\n",
    "        \"https://portal.azure.com\",\n",
    "        \"https://docs-bootcamp.app.cogniteapp.com/\",\n",
    "    ]\n",
    "\n",
    "    for url in urls:\n",
    "        r = \"is\" if check(url) else \"is NOT\"\n",
    "        print(f\"{url} {r} accessible\")"
   ]
  }
 ],
 "metadata": {
  "kernelspec": {
   "display_name": "Python (myenv)",
   "language": "python",
   "name": "myenv"
  },
  "language_info": {
   "codemirror_mode": {
    "name": "ipython",
    "version": 3
   },
   "file_extension": ".py",
   "mimetype": "text/x-python",
   "name": "python",
   "nbconvert_exporter": "python",
   "pygments_lexer": "ipython3",
   "version": "3.11.9"
  }
 },
 "nbformat": 4,
 "nbformat_minor": 5
}
